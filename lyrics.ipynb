{
 "cells": [
  {
   "cell_type": "code",
   "execution_count": null,
   "id": "0ccab690",
   "metadata": {
    "scrolled": false
   },
   "outputs": [],
   "source": [
    "!pip install lyricsgenius"
   ]
  },
  {
   "cell_type": "code",
   "execution_count": null,
   "id": "e597ed89",
   "metadata": {},
   "outputs": [],
   "source": [
    "import numpy as np\n",
    "import pandas as pd\n",
    "pd.options.display.max_rows = 20\n",
    "np.set_printoptions(precision = 4, suppress = True)"
   ]
  },
  {
   "cell_type": "code",
   "execution_count": null,
   "id": "56cba056",
   "metadata": {},
   "outputs": [],
   "source": [
    "top = \"top_tracks_of_2021.csv\"\n",
    "top_songs = pd.read_csv(top)"
   ]
  },
  {
   "cell_type": "code",
   "execution_count": null,
   "id": "ac8d24ed",
   "metadata": {},
   "outputs": [],
   "source": [
    "from lyricsgenius import Genius\n",
    "genius = Genius(\"kUBI97HU6lWppoe4pACMTXl5Q79eOlJVLX_9aO9QVLhf0Ejx1djc80fHS-gp9kmN\")"
   ]
  },
  {
   "cell_type": "code",
   "execution_count": null,
   "id": "fc5d620e",
   "metadata": {},
   "outputs": [],
   "source": [
    "szklanki = genius.lyrics(song_url = \"https://genius.com/Young-leosia-szklanki-lyrics\")\n",
    "\n",
    "# nicely working\n",
    "song_name = top_songs[\"Track Name\"][0]\n",
    "song_artist = top_songs[\"Artist Name(s)\"][0]\n",
    "song_data = genius.search_song(song_name, song_artist)\n",
    "\n",
    "print(song_data.lyrics)"
   ]
  },
  {
   "cell_type": "code",
   "execution_count": null,
   "id": "06b208b2",
   "metadata": {},
   "outputs": [],
   "source": [
    "# not nicely working\n",
    "song_name = top_songs[\"Track Name\"][5]\n",
    "song_artist = top_songs[\"Artist Name(s)\"][5]\n",
    "song_data = genius.search_song(song_name, song_artist)\n",
    "\n",
    "print(song_data.lyrics)"
   ]
  },
  {
   "cell_type": "code",
   "execution_count": null,
   "id": "ef9e6b0a",
   "metadata": {},
   "outputs": [],
   "source": []
  }
 ],
 "metadata": {
  "kernelspec": {
   "display_name": "Python 3",
   "language": "python",
   "name": "python3"
  },
  "language_info": {
   "codemirror_mode": {
    "name": "ipython",
    "version": 3
   },
   "file_extension": ".py",
   "mimetype": "text/x-python",
   "name": "python",
   "nbconvert_exporter": "python",
   "pygments_lexer": "ipython3",
   "version": "3.8.8"
  }
 },
 "nbformat": 4,
 "nbformat_minor": 5
}
